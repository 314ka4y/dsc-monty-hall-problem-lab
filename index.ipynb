{
 "cells": [
  {
   "cell_type": "markdown",
   "metadata": {},
   "source": [
    "# The Monty Hall Problem\n",
    "\n",
    "## Introduction\n",
    "\n",
    "The Monty Hall problem is a famous little puzzle from a game show. It goes like this: you are presented with 3 doors. Behind two are goats and behind the third is a car. You are asked to select a door; if you select the door with the car, you win! After selecting, the host then opens one of the remaining two doors, revealing a goat. The host then asks if you would like to switch doors or stick with your original choice. What would you do? Does it matter?\n",
    "\n",
    "<img src=\"images/Image_58_MontyHall.png\">\n",
    "\n",
    "## Objectives\n",
    "\n",
    "In this lab you will:\n",
    "\n",
    "- Use Bayes' theorem along with a simulation to solve the Monty Hall problem"
   ]
  },
  {
   "cell_type": "markdown",
   "metadata": {},
   "source": [
    "## Run a simulation\n",
    "\n",
    "This is not a traditional application of Bayes' theorem, so trying to formulate the problem as such is tricky at best. That said, the scenario does capture the motivating conception behind Bayesian statistics: updating our beliefs in the face of additional evidence. With this, you'll employ another frequently used tool Bayesians frequently employ, running simulations. To do this, generate a random integer between one and three to represent the door hiding the car. Then, generate a second integer between one and three representing the player's selection. Then, of those the contestant did not choose, select a door concealing a goat to reveal. Record the results of the simulated game if they changed versus if they did not. Repeat this process a thousand (or more) times. Finally, plot the results of your simulation as a line graph. The x-axis should be the number of simulations, and the y-axis should be the probability of winning. (There should be two lines on the graph, one for switching doors, and the other for keeping the original selection.)"
   ]
  },
  {
   "cell_type": "code",
   "execution_count": 6,
   "metadata": {},
   "outputs": [],
   "source": [
    "import numpy as np\n",
    "import pandas as pd\n",
    "import scipy.stats as stats\n",
    "import matplotlib as plt\n",
    "import random"
   ]
  },
  {
   "cell_type": "code",
   "execution_count": 78,
   "metadata": {},
   "outputs": [
    {
     "name": "stdout",
     "output_type": "stream",
     "text": [
      "Chance of win without change31.7\n",
      "Chance of win with change68.30000000000001\n"
     ]
    }
   ],
   "source": [
    "# Your code here\n",
    "n_sim = 1000\n",
    "n_without_change = 0\n",
    "n_with_change =0\n",
    "count1 = 0\n",
    "count2 = 0\n",
    "\n",
    "for n in list(range(n_sim)):\n",
    "    list_options = [1, 2 ,3]\n",
    "    n_choose = random.choice(list_options)\n",
    "    n_win = random.choice(list_options) \n",
    "    open_door = random.choice([i for i in list_options if ((i != n_choose) and (i != n_win))]) \n",
    "    new_list = [i for i in list_options if (i != open_door)]\n",
    "    if n_choose == n_win:\n",
    "         n_without_change += 1\n",
    "    new_list2 = [i for i in new_list if (i != n_choose)]\n",
    "    n_choose2 = random.choice(new_list2)\n",
    "    if n_choose2 == n_win:\n",
    "         n_with_change += 1\n",
    "    \n",
    "print(f\"Chance of win without change{n_without_change/n_sim*100}\")\n",
    "print(f\"Chance of win with change{n_with_change/n_sim*100}\")       \n",
    "    \n",
    "\n",
    "\n"
   ]
  },
  {
   "cell_type": "markdown",
   "metadata": {},
   "source": [
    "## Summary\n",
    "\n",
    "In this lab, you further investigated the idea of Bayes' theorem and Bayesian statistics in general through the Monty Hall problem. Hopefully, this was an entertaining little experience! "
   ]
  }
 ],
 "metadata": {
  "kernelspec": {
   "display_name": "Python 3",
   "language": "python",
   "name": "python3"
  },
  "language_info": {
   "codemirror_mode": {
    "name": "ipython",
    "version": 3
   },
   "file_extension": ".py",
   "mimetype": "text/x-python",
   "name": "python",
   "nbconvert_exporter": "python",
   "pygments_lexer": "ipython3",
   "version": "3.8.8"
  },
  "toc": {
   "base_numbering": 1,
   "nav_menu": {},
   "number_sections": true,
   "sideBar": true,
   "skip_h1_title": false,
   "title_cell": "Table of Contents",
   "title_sidebar": "Contents",
   "toc_cell": false,
   "toc_position": {},
   "toc_section_display": true,
   "toc_window_display": false
  }
 },
 "nbformat": 4,
 "nbformat_minor": 2
}
